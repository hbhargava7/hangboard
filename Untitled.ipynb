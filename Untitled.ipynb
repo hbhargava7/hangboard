{
 "cells": [
  {
   "cell_type": "code",
   "execution_count": 1,
   "metadata": {},
   "outputs": [],
   "source": [
    "import pandas as pd\n",
    "df = pd.read_csv('grace_routine.csv', header=None)"
   ]
  },
  {
   "cell_type": "code",
   "execution_count": 2,
   "metadata": {},
   "outputs": [
    {
     "data": {
      "text/plain": [
       "[['get ready', 'get ready', 10.0, 'blue'],\n",
       " ['warm up', 'hang', 15.0, 'orange'],\n",
       " ['warm up', 'rest', 10.0, 'red'],\n",
       " ['warm up', 'hang', 15.0, 'orange'],\n",
       " ['warm up', 'rest', 10.0, 'red'],\n",
       " ['set 1', 'hang', 15.0, 'orange'],\n",
       " ['set 1', 'rest', 10.0, 'red'],\n",
       " ['set 1', 'hang', 15.0, 'orange'],\n",
       " ['set 1', 'rest', 10.0, 'red'],\n",
       " ['set 1', 'hang', 15.0, 'orange'],\n",
       " ['set 1', 'rest', 10.0, 'red'],\n",
       " ['set 1', 'hang', 15.0, 'orange'],\n",
       " ['set 1', 'long rest', 300.0, 'red'],\n",
       " ['set 2', 'hang', 15.0, 'orange'],\n",
       " ['set 2', 'rest', 10.0, 'red'],\n",
       " ['set 2', 'hang', 15.0, 'orange'],\n",
       " ['set 2', 'rest', 10.0, 'red'],\n",
       " ['set 2', 'hang', 15.0, 'orange'],\n",
       " ['set 2', 'rest', 10.0, 'red'],\n",
       " ['set 2', 'elevated hang', 15.0, 'orange'],\n",
       " ['set 2', 'long rest', 300.0, 'red'],\n",
       " ['set 3', 'hang', 15.0, 'orange'],\n",
       " ['set 3', 'rest', 10.0, 'red'],\n",
       " ['set 3', 'hang', 15.0, 'orange'],\n",
       " ['set 3', 'rest', 10.0, 'red'],\n",
       " ['set 3', 'hang', 15.0, 'orange'],\n",
       " ['set 3', 'rest', 10.0, 'red'],\n",
       " ['set 3', 'hang', 15.0, 'orange'],\n",
       " ['set 3', 'long rest', 300.0, 'red'],\n",
       " [nan, nan, nan, nan],\n",
       " [nan, nan, nan, nan],\n",
       " [nan, nan, nan, nan],\n",
       " [nan, nan, nan, nan],\n",
       " [nan, nan, nan, nan],\n",
       " [nan, nan, nan, nan],\n",
       " [nan, nan, nan, nan]]"
      ]
     },
     "execution_count": 2,
     "metadata": {},
     "output_type": "execute_result"
    }
   ],
   "source": [
    "data = []\n",
    "for index, row in df.iterrows():\n",
    "    data.append([row[0], row[1], row[2], row[3]])\n",
    "data"
   ]
  },
  {
   "cell_type": "code",
   "execution_count": null,
   "metadata": {},
   "outputs": [],
   "source": []
  }
 ],
 "metadata": {
  "kernelspec": {
   "display_name": "Python 3",
   "language": "python",
   "name": "python3"
  },
  "language_info": {
   "codemirror_mode": {
    "name": "ipython",
    "version": 3
   },
   "file_extension": ".py",
   "mimetype": "text/x-python",
   "name": "python",
   "nbconvert_exporter": "python",
   "pygments_lexer": "ipython3",
   "version": "3.8.5"
  }
 },
 "nbformat": 4,
 "nbformat_minor": 4
}
