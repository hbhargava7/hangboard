{
 "cells": [
  {
   "cell_type": "code",
   "execution_count": 9,
   "metadata": {},
   "outputs": [],
   "source": [
    "import pandas as pd\n",
    "df = pd.read_csv('basic_routine.csv', header=None)"
   ]
  },
  {
   "cell_type": "code",
   "execution_count": 14,
   "metadata": {},
   "outputs": [
    {
     "data": {
      "text/plain": [
       "[['get ready', 'get ready', 10, 'blue'],\n",
       " ['warm up', 'jug hang', 20, 'orange'],\n",
       " ['warm up', 'rest', 10, 'blue'],\n",
       " ['warm up', 'jug hang', 20, 'orange'],\n",
       " ['warm up', 'rest', 60, 'blue'],\n",
       " ['set 1', 'dead hang', 15, 'red'],\n",
       " ['set 1', 'rest', 50, 'blue'],\n",
       " ['set 1', 'dead hang', 15, 'red'],\n",
       " ['set 1', 'rest', 50, 'blue'],\n",
       " ['set 1', 'dead hang', 15, 'red'],\n",
       " ['set 1', 'rest', 50, 'blue'],\n",
       " ['set 1', 'dead hang', 15, 'red'],\n",
       " ['set 1', 'rest', 300, 'blue'],\n",
       " ['set 2', 'dead hang', 15, 'red'],\n",
       " ['set 2', 'rest', 50, 'blue'],\n",
       " ['set 2', 'dead hang', 15, 'red'],\n",
       " ['set 2', 'rest', 50, 'blue'],\n",
       " ['set 2', 'dead hang', 15, 'red'],\n",
       " ['set 2', 'rest', 50, 'blue'],\n",
       " ['set 2', 'dead hang', 15, 'red'],\n",
       " ['set 2', 'rest', 300, 'blue'],\n",
       " ['set 3', 'dead hang', 15, 'red'],\n",
       " ['set 3', 'rest', 50, 'blue'],\n",
       " ['set 3', 'dead hang', 15, 'red'],\n",
       " ['set 3', 'rest', 50, 'blue'],\n",
       " ['set 3', 'dead hang', 15, 'red'],\n",
       " ['set 3', 'rest', 50, 'blue'],\n",
       " ['set 3', 'dead hang', 15, 'red'],\n",
       " ['set 3', 'rest', 300, 'blue'],\n",
       " ['set 4', 'dead hang', 15, 'red'],\n",
       " ['set 4', 'rest', 50, 'blue'],\n",
       " ['set 4', 'dead hang', 15, 'red'],\n",
       " ['set 4', 'rest', 50, 'blue'],\n",
       " ['set 4', 'dead hang', 15, 'red'],\n",
       " ['set 4', 'rest', 50, 'blue'],\n",
       " ['set 4', 'dead hang', 15, 'red'],\n",
       " ['set 4', 'done', 300, 'blue']]"
      ]
     },
     "execution_count": 14,
     "metadata": {},
     "output_type": "execute_result"
    }
   ],
   "source": [
    "data = []\n",
    "for index, row in df.iterrows():\n",
    "    data.append([row[0], row[1], row[2], row[3]])\n",
    "data"
   ]
  }
 ],
 "metadata": {
  "kernelspec": {
   "display_name": "Python 3",
   "language": "python",
   "name": "python3"
  },
  "language_info": {
   "codemirror_mode": {
    "name": "ipython",
    "version": 3
   },
   "file_extension": ".py",
   "mimetype": "text/x-python",
   "name": "python",
   "nbconvert_exporter": "python",
   "pygments_lexer": "ipython3",
   "version": "3.8.5"
  }
 },
 "nbformat": 4,
 "nbformat_minor": 4
}
